{
 "cells": [
  {
   "cell_type": "code",
   "execution_count": 8,
   "id": "ec9afd54-c06e-499d-b8a8-adbebe51461e",
   "metadata": {},
   "outputs": [],
   "source": [
    "import json\n",
    "rpath = \"conf/q2l_config.json\"\n",
    "with open(rpath, 'r') as f:\n",
    "    data =  json.load(f)"
   ]
  },
  {
   "cell_type": "code",
   "execution_count": 9,
   "id": "e6944302-12a9-45f0-98b3-b2680d6d175f",
   "metadata": {},
   "outputs": [
    {
     "data": {
      "text/plain": [
       "{'architectures': ['BertModel'],\n",
       " 'attention_probs_dropout_prob': 0.1,\n",
       " 'hidden_act': 'gelu',\n",
       " 'hidden_dropout_prob': 0.1,\n",
       " 'hidden_size': 768,\n",
       " 'initializer_range': 0.02,\n",
       " 'intermediate_size': 3072,\n",
       " 'layer_norm_eps': 1e-12,\n",
       " 'max_position_embeddings': 512,\n",
       " 'model_type': 'bert',\n",
       " 'num_attention_heads': 4,\n",
       " 'num_hidden_layers': 2,\n",
       " 'pad_token_id': 0,\n",
       " 'type_vocab_size': 2,\n",
       " 'vocab_size': 30522,\n",
       " 'encoder_width': 768,\n",
       " 'add_cross_attention': True,\n",
       " 'add_tag_cross_attention': False}"
      ]
     },
     "execution_count": 9,
     "metadata": {},
     "output_type": "execute_result"
    }
   ],
   "source": [
    "data"
   ]
  },
  {
   "cell_type": "code",
   "execution_count": 18,
   "id": "39bded2c-2fcb-4ebd-8fa2-d43924d8d95f",
   "metadata": {},
   "outputs": [
    {
     "name": "stdout",
     "output_type": "stream",
     "text": [
      "C:\\Users\\ALL USER\\Desktop\\github\\ram\\ram\\c\\m.json\n",
      "C:\\Users\\ALL USER\\Desktop\\github\\ram\\ram\\c\\q.json\n",
      "C:\\Users\\ALL USER\\Desktop\\github\\ram\\ram\\c\\t.txt\n",
      "C:\\Users\\ALL USER\\Desktop\\github\\ram\\ram\\c\\tt.txt\n",
      "All files have been obfuscated and saved to: C:\\Users\\ALL USER\\Desktop\\github\\ram\\ram\\c\n"
     ]
    }
   ],
   "source": [
    "import os\n",
    "from cryptography.fernet import Fernet\n",
    "import shutil\n",
    "\n",
    "# Define the source directory and the new directory for obfuscated files\n",
    "source_dir = r\"C:\\Users\\ALL USER\\Desktop\\github\\ram\\ram\\conf\"\n",
    "secure_dir = r\"C:\\Users\\ALL USER\\Desktop\\github\\ram\\ram\\c\"\n",
    "\n",
    "# Create the secure directory if it doesn't exist\n",
    "if not os.path.exists(secure_dir):\n",
    "    os.makedirs(secure_dir)\n",
    "\n",
    "# Generate an encryption key\n",
    "key = Fernet.generate_key()\n",
    "cipher_suite = Fernet(key)\n",
    "\n",
    "# Save the encryption key securely\n",
    "with open(os.path.join(secure_dir, \"encryption_key.key\"), \"wb\") as key_file:\n",
    "    key_file.write(key)\n",
    "\n",
    "# Function to obfuscate files\n",
    "def obfuscate_file(file_path, dest_dir):\n",
    "    # Read the original file data\n",
    "    with open(file_path, \"rb\") as file:\n",
    "        file_data = file.read()\n",
    "    \n",
    "    # Encrypt the file data\n",
    "    encrypted_data = cipher_suite.encrypt(file_data)\n",
    "    \n",
    "    # Get the original file name and extension\n",
    "    file_name = os.path.basename(file_path)\n",
    "    \n",
    "    # Create the new file path in the secure directory\n",
    "    new_file_path = os.path.join(dest_dir, file_name)\n",
    "    \n",
    "    # Write the encrypted data to the new file\n",
    "    with open(new_file_path, \"wb\") as encrypted_file:\n",
    "        encrypted_file.write(encrypted_data)\n",
    "    \n",
    "    # Print the new file path\n",
    "    print(new_file_path)\n",
    "\n",
    "# Iterate through all files in the source directory and obfuscate them\n",
    "for root, dirs, files in os.walk(source_dir):\n",
    "    for file in files:\n",
    "        file_path = os.path.join(root, file)\n",
    "        obfuscate_file(file_path, secure_dir)\n",
    "\n",
    "print(\"All files have been obfuscated and saved to:\", secure_dir)\n"
   ]
  },
  {
   "cell_type": "code",
   "execution_count": 19,
   "id": "8bbd6e35-b55c-4a14-bd57-5db1fad90963",
   "metadata": {},
   "outputs": [
    {
     "name": "stdout",
     "output_type": "stream",
     "text": [
      "C:\\Users\\ALL USER\\Desktop\\github\\ram\\ram\\c\\sm\\m.json\n",
      "C:\\Users\\ALL USER\\Desktop\\github\\ram\\ram\\c\\sm\\q.json\n",
      "C:\\Users\\ALL USER\\Desktop\\github\\ram\\ram\\c\\sm\\t.txt\n",
      "C:\\Users\\ALL USER\\Desktop\\github\\ram\\ram\\c\\sm\\tt.txt\n",
      "All files have been decrypted and saved to: C:\\Users\\ALL USER\\Desktop\\github\\ram\\ram\\c\\sm\n"
     ]
    }
   ],
   "source": [
    "import os\n",
    "from cryptography.fernet import Fernet\n",
    "import tempfile\n",
    "\n",
    "# Define the source directory for obfuscated files and the directory to temporarily hold decrypted files\n",
    "secure_dir = r\"C:\\Users\\ALL USER\\Desktop\\github\\ram\\ram\\c\"\n",
    "\n",
    "\n",
    "# Function to decrypt files\n",
    "def decrypt_file(file_path, dest_dir, cipher_suite):\n",
    "    try:\n",
    "        # Read the encrypted file data\n",
    "        with open(file_path, \"rb\") as file:\n",
    "            encrypted_data = file.read()\n",
    "        \n",
    "        # Decrypt the file data\n",
    "        decrypted_data = cipher_suite.decrypt(encrypted_data)\n",
    "        \n",
    "        # Get the original file name and extension\n",
    "        file_name = os.path.basename(file_path)\n",
    "        \n",
    "        # Create the new file path in the destination directory\n",
    "        new_file_path = os.path.join(dest_dir, file_name)\n",
    "        \n",
    "        # Write the decrypted data to the new file\n",
    "        with open(new_file_path, \"wb\") as decrypted_file:\n",
    "            decrypted_file.write(decrypted_data)\n",
    "        \n",
    "        # Print the new file path\n",
    "        print(new_file_path)\n",
    "    except Exception as e:\n",
    "        # Print an error message if decryption fails\n",
    "        print(f\"Failed to decrypt {file_path}: {e}\")\n",
    "\n",
    "\n",
    "key = \"i99sixaNXaowhnj4htoVOMSYw-ZNM7mY8qyidFr3t8A=\"\n",
    "cipher_suite = Fernet(key)\n",
    "\n",
    "# Directory to temporarily hold decrypted files inside secure_dir\n",
    "temp_dir = os.path.join(secure_dir, \"sm\")\n",
    "if not os.path.exists(temp_dir):\n",
    "    os.makedirs(temp_dir)\n",
    "\n",
    "# Iterate through all files in the secure directory and decrypt them\n",
    "for root, dirs, files in os.walk(secure_dir):\n",
    "    # Skip the decrypted_temp directory\n",
    "    if root == temp_dir:\n",
    "        continue\n",
    "    for file in files:\n",
    "        # Skip the encryption key file\n",
    "        if file == \"encryption_key.key\":\n",
    "            continue\n",
    "        file_path = os.path.join(root, file)\n",
    "        decrypt_file(file_path, temp_dir, cipher_suite)\n",
    "\n",
    "print(\"All files have been decrypted and saved to:\", temp_dir)\n"
   ]
  },
  {
   "cell_type": "code",
   "execution_count": 16,
   "id": "c2470544-3660-46df-b307-e28c48f497f4",
   "metadata": {},
   "outputs": [
    {
     "ename": "SyntaxError",
     "evalue": "invalid syntax (3335134635.py, line 1)",
     "output_type": "error",
     "traceback": [
      "\u001b[1;36m  Cell \u001b[1;32mIn[16], line 1\u001b[1;36m\u001b[0m\n\u001b[1;33m    med_config.json m\u001b[0m\n\u001b[1;37m                    ^\u001b[0m\n\u001b[1;31mSyntaxError\u001b[0m\u001b[1;31m:\u001b[0m invalid syntax\n"
     ]
    }
   ],
   "source": [
    "med_config.json m\n",
    "q2l_config.json q\n",
    "ram_tag_list.txt t\n",
    "ram_tag_list_threshold.txt tt"
   ]
  },
  {
   "cell_type": "code",
   "execution_count": 1,
   "id": "8589174c-bacb-4228-8c75-e78789dcf4fd",
   "metadata": {},
   "outputs": [
    {
     "ename": "ImportError",
     "evalue": "attempted relative import with no known parent package",
     "output_type": "error",
     "traceback": [
      "\u001b[1;31m---------------------------------------------------------------------------\u001b[0m",
      "\u001b[1;31mImportError\u001b[0m                               Traceback (most recent call last)",
      "Cell \u001b[1;32mIn[1], line 1\u001b[0m\n\u001b[1;32m----> 1\u001b[0m \u001b[38;5;28;01mfrom\u001b[39;00m \u001b[38;5;21;01m.\u001b[39;00m\u001b[38;5;21;01mvit\u001b[39;00m \u001b[38;5;28;01mimport\u001b[39;00m VisionTransformer\n",
      "\u001b[1;31mImportError\u001b[0m: attempted relative import with no known parent package"
     ]
    }
   ],
   "source": [
    "from .vit import VisionTransformer"
   ]
  },
  {
   "cell_type": "code",
   "execution_count": null,
   "id": "d176b30a-8489-4084-849f-e72ba2327d7b",
   "metadata": {},
   "outputs": [],
   "source": []
  }
 ],
 "metadata": {
  "kernelspec": {
   "display_name": "Python 3 (ipykernel)",
   "language": "python",
   "name": "python3"
  },
  "language_info": {
   "codemirror_mode": {
    "name": "ipython",
    "version": 3
   },
   "file_extension": ".py",
   "mimetype": "text/x-python",
   "name": "python",
   "nbconvert_exporter": "python",
   "pygments_lexer": "ipython3",
   "version": "3.10.5"
  }
 },
 "nbformat": 4,
 "nbformat_minor": 5
}
