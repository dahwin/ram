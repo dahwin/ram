{
 "cells": [
  {
   "cell_type": "code",
   "execution_count": 8,
   "id": "ec9afd54-c06e-499d-b8a8-adbebe51461e",
   "metadata": {},
   "outputs": [],
   "source": [
    "import json\n",
    "rpath = \"conf/q2l_config.json\"\n",
    "with open(rpath, 'r') as f:\n",
    "    data =  json.load(f)"
   ]
  },
  {
   "cell_type": "code",
   "execution_count": 9,
   "id": "e6944302-12a9-45f0-98b3-b2680d6d175f",
   "metadata": {},
   "outputs": [
    {
     "data": {
      "text/plain": [
       "{'architectures': ['BertModel'],\n",
       " 'attention_probs_dropout_prob': 0.1,\n",
       " 'hidden_act': 'gelu',\n",
       " 'hidden_dropout_prob': 0.1,\n",
       " 'hidden_size': 768,\n",
       " 'initializer_range': 0.02,\n",
       " 'intermediate_size': 3072,\n",
       " 'layer_norm_eps': 1e-12,\n",
       " 'max_position_embeddings': 512,\n",
       " 'model_type': 'bert',\n",
       " 'num_attention_heads': 4,\n",
       " 'num_hidden_layers': 2,\n",
       " 'pad_token_id': 0,\n",
       " 'type_vocab_size': 2,\n",
       " 'vocab_size': 30522,\n",
       " 'encoder_width': 768,\n",
       " 'add_cross_attention': True,\n",
       " 'add_tag_cross_attention': False}"
      ]
     },
     "execution_count": 9,
     "metadata": {},
     "output_type": "execute_result"
    }
   ],
   "source": [
    "data"
   ]
  },
  {
   "cell_type": "code",
   "execution_count": null,
   "id": "39bded2c-2fcb-4ebd-8fa2-d43924d8d95f",
   "metadata": {},
   "outputs": [],
   "source": []
  }
 ],
 "metadata": {
  "kernelspec": {
   "display_name": "Python 3 (ipykernel)",
   "language": "python",
   "name": "python3"
  },
  "language_info": {
   "codemirror_mode": {
    "name": "ipython",
    "version": 3
   },
   "file_extension": ".py",
   "mimetype": "text/x-python",
   "name": "python",
   "nbconvert_exporter": "python",
   "pygments_lexer": "ipython3",
   "version": "3.10.5"
  }
 },
 "nbformat": 4,
 "nbformat_minor": 5
}
